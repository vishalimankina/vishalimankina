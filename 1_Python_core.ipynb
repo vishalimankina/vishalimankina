{
  "nbformat": 4,
  "nbformat_minor": 0,
  "metadata": {
    "colab": {
      "provenance": [],
      "include_colab_link": true
    },
    "kernelspec": {
      "name": "python3",
      "display_name": "Python 3"
    },
    "language_info": {
      "name": "python"
    }
  },
  "cells": [
    {
      "cell_type": "markdown",
      "metadata": {
        "id": "view-in-github",
        "colab_type": "text"
      },
      "source": [
        "<a href=\"https://colab.research.google.com/github/vishalimankina/vishalimankina/blob/main/1_Python_core.ipynb\" target=\"_parent\"><img src=\"https://colab.research.google.com/assets/colab-badge.svg\" alt=\"Open In Colab\"/></a>"
      ]
    },
    {
      "cell_type": "markdown",
      "source": [
        "# **Python Basics**\n",
        "\n",
        "## Introduction\n",
        "\n",
        "When defining a variable, there is no need to specify its data type. Just assign the required value to the new variable:"
      ],
      "metadata": {
        "id": "fRCAIMYBfjMk"
      }
    },
    {
      "cell_type": "code",
      "execution_count": null,
      "metadata": {
        "id": "58CWXnmleZkU"
      },
      "outputs": [],
      "source": [
        "x = 3\n",
        "z=\"string\""
      ]
    },
    {
      "cell_type": "markdown",
      "source": [
        "now, if we want to create a new variable with the same value of x, we have:"
      ],
      "metadata": {
        "id": "atOPhIo4hlcJ"
      }
    },
    {
      "cell_type": "code",
      "source": [
        "y = x"
      ],
      "metadata": {
        "id": "RXkkiNmEhs75"
      },
      "execution_count": null,
      "outputs": []
    },
    {
      "cell_type": "markdown",
      "source": [
        "if we want to read their values, we just need to:"
      ],
      "metadata": {
        "id": "KygdQPQ5hvtZ"
      }
    },
    {
      "cell_type": "code",
      "source": [
        "x\n",
        "y"
      ],
      "metadata": {
        "id": "AFp-FcjBh0Sh",
        "colab": {
          "base_uri": "https://localhost:8080/",
          "height": 159
        },
        "outputId": "03febbe1-2694-4f8d-ab3f-b49a090a48a9"
      },
      "execution_count": null,
      "outputs": [
        {
          "output_type": "error",
          "ename": "NameError",
          "evalue": "name 'y' is not defined",
          "traceback": [
            "\u001b[0;31m---------------------------------------------------------------------------\u001b[0m",
            "\u001b[0;31mNameError\u001b[0m                                 Traceback (most recent call last)",
            "\u001b[0;32m<ipython-input-3-a08bad768ec4>\u001b[0m in \u001b[0;36m<cell line: 2>\u001b[0;34m()\u001b[0m\n\u001b[1;32m      1\u001b[0m \u001b[0mx\u001b[0m\u001b[0;34m\u001b[0m\u001b[0;34m\u001b[0m\u001b[0m\n\u001b[0;32m----> 2\u001b[0;31m \u001b[0my\u001b[0m\u001b[0;34m\u001b[0m\u001b[0;34m\u001b[0m\u001b[0m\n\u001b[0m",
            "\u001b[0;31mNameError\u001b[0m: name 'y' is not defined"
          ]
        }
      ]
    },
    {
      "cell_type": "code",
      "source": [
        "x,y"
      ],
      "metadata": {
        "id": "dl25J07Eh8OR",
        "colab": {
          "base_uri": "https://localhost:8080/"
        },
        "outputId": "78753be9-a2c1-41bd-9316-5956ce11b760"
      },
      "execution_count": null,
      "outputs": [
        {
          "output_type": "execute_result",
          "data": {
            "text/plain": [
              "(3, 3)"
            ]
          },
          "metadata": {},
          "execution_count": 4
        }
      ]
    },
    {
      "cell_type": "markdown",
      "source": [
        "if we want to know the variable type:"
      ],
      "metadata": {
        "id": "LVHVAjzdh-cx"
      }
    },
    {
      "cell_type": "code",
      "source": [
        "type(x)"
      ],
      "metadata": {
        "id": "JJfPxpgsinaE",
        "colab": {
          "base_uri": "https://localhost:8080/"
        },
        "outputId": "1b7492fe-fb4c-4135-a579-68186e8260ac"
      },
      "execution_count": null,
      "outputs": [
        {
          "output_type": "execute_result",
          "data": {
            "text/plain": [
              "int"
            ]
          },
          "metadata": {},
          "execution_count": 5
        }
      ]
    },
    {
      "cell_type": "markdown",
      "source": [
        "if we want to know the object's identifier:"
      ],
      "metadata": {
        "id": "MAMEk84Iiurh"
      }
    },
    {
      "cell_type": "code",
      "source": [
        "id(x)"
      ],
      "metadata": {
        "id": "QQOyrhz_iz5h",
        "colab": {
          "base_uri": "https://localhost:8080/"
        },
        "outputId": "95cbd4c7-377d-4d3f-dd99-74471675e7e7"
      },
      "execution_count": null,
      "outputs": [
        {
          "output_type": "execute_result",
          "data": {
            "text/plain": [
              "11256128"
            ]
          },
          "metadata": {},
          "execution_count": 6
        }
      ]
    },
    {
      "cell_type": "markdown",
      "source": [
        "what about having two variables with the same reference as in y = x?"
      ],
      "metadata": {
        "id": "xg-WIL5hi3m5"
      }
    },
    {
      "cell_type": "code",
      "source": [
        "id(x)\n",
        "id(y)"
      ],
      "metadata": {
        "id": "fR_lHnodi8xJ",
        "colab": {
          "base_uri": "https://localhost:8080/",
          "height": 159
        },
        "outputId": "f9deb483-a4eb-4fe5-d0b8-32d544983e0f"
      },
      "execution_count": null,
      "outputs": [
        {
          "output_type": "error",
          "ename": "NameError",
          "evalue": "name 'x' is not defined",
          "traceback": [
            "\u001b[0;31m---------------------------------------------------------------------------\u001b[0m",
            "\u001b[0;31mNameError\u001b[0m                                 Traceback (most recent call last)",
            "\u001b[0;32m<ipython-input-1-2c2e76d7072a>\u001b[0m in \u001b[0;36m<cell line: 1>\u001b[0;34m()\u001b[0m\n\u001b[0;32m----> 1\u001b[0;31m \u001b[0mid\u001b[0m\u001b[0;34m(\u001b[0m\u001b[0mx\u001b[0m\u001b[0;34m)\u001b[0m\u001b[0;34m\u001b[0m\u001b[0;34m\u001b[0m\u001b[0m\n\u001b[0m\u001b[1;32m      2\u001b[0m \u001b[0mid\u001b[0m\u001b[0;34m(\u001b[0m\u001b[0my\u001b[0m\u001b[0;34m)\u001b[0m\u001b[0;34m\u001b[0m\u001b[0;34m\u001b[0m\u001b[0m\n",
            "\u001b[0;31mNameError\u001b[0m: name 'x' is not defined"
          ]
        }
      ]
    },
    {
      "cell_type": "markdown",
      "source": [
        "their ID is the same!"
      ],
      "metadata": {
        "id": "fZ57UTPujATx"
      }
    },
    {
      "cell_type": "markdown",
      "source": [
        "\n",
        "\n",
        "---\n",
        "\n",
        "Some better ways to print values:\n"
      ],
      "metadata": {
        "id": "hs-J68m9jEg7"
      }
    },
    {
      "cell_type": "code",
      "source": [
        "print(x)\n",
        "print(\"x:\", x)\n",
        "print(f\"x: {x}\")\n",
        "\n",
        "print(f\"the value of z was: {z}\")\n",
        "print(f\"the type of z is: {type(z)}\")"
      ],
      "metadata": {
        "id": "Yl3p48ujjDOh",
        "colab": {
          "base_uri": "https://localhost:8080/"
        },
        "outputId": "d2fb1dcf-9d22-4c13-b737-38593766878a"
      },
      "execution_count": null,
      "outputs": [
        {
          "output_type": "stream",
          "name": "stdout",
          "text": [
            "3\n",
            "x: 3\n",
            "x: 3\n",
            "the value of z was: string\n",
            "the type of z is: <class 'str'>\n"
          ]
        }
      ]
    },
    {
      "cell_type": "markdown",
      "source": [
        "\n",
        "\n",
        "---\n",
        "### Data types\n",
        "**IMPORTANT NOTE**: Data types are not declared but they do exist!\n",
        "\n",
        "*   **Basic**: *int, float, bool, str* (all **immutable**)\n",
        "*   **Composite**:\n",
        "  *   *tuple* (immutable list of objects)\n",
        "  *   *list, set, dict* (mutable collections of objects)\n",
        "\n",
        "**immutable** = assigning a new value to an object does not change the previous value assigned to that object but creates a new object\n",
        "\n",
        "\n",
        "**Int and float**\n",
        "\n",
        "\n"
      ],
      "metadata": {
        "id": "EdIjezh5j8mI"
      }
    },
    {
      "cell_type": "code",
      "source": [
        "a = 7\n",
        "b = 3\n",
        "\n",
        "res1 = a // b     # res1 = 1     [// = integer division]\n",
        "res2 = a % b      # res2 = 4     [ % = reminder]\n",
        "res3 = a / b      # res3 = 1.8\n",
        "res4 = a ** 2     # res4 = 81    [** = exponentiation]\n",
        "\n",
        "print(f\"res1={res1}, type:{type(res1)}\")\n",
        "print(f\"res2={res2}, type:{type(res2)}\")\n",
        "print(f\"res3={res3}, type:{type(res3)}\")\n",
        "print(f\"res4={res4}, type:{type(res4)}\")"
      ],
      "metadata": {
        "id": "FThKHuxvl0dQ",
        "colab": {
          "base_uri": "https://localhost:8080/"
        },
        "outputId": "b4a23ba9-77cd-4ee3-d664-8e172178c1d1"
      },
      "execution_count": null,
      "outputs": [
        {
          "output_type": "stream",
          "name": "stdout",
          "text": [
            "res1=2, type:<class 'int'>\n",
            "res2=1, type:<class 'int'>\n",
            "res3=2.3333333333333335, type:<class 'float'>\n",
            "res4=49, type:<class 'int'>\n"
          ]
        }
      ]
    },
    {
      "cell_type": "markdown",
      "source": [
        "**Bool** data type has three Boolean operators: **and, or, not**"
      ],
      "metadata": {
        "id": "OZAlyEICpVB3"
      }
    },
    {
      "cell_type": "code",
      "source": [
        "cold = False\n",
        "hot = not cold\n",
        "print(f\"hot:{hot}\")\n",
        "\n",
        "\n",
        "temp1 = 27.5\n",
        "temp2 = 24.6\n",
        "check = temp2 > temp1\n",
        "print(f\"check:{check}\")\n"
      ],
      "metadata": {
        "id": "gpVBTSffpX4I",
        "colab": {
          "base_uri": "https://localhost:8080/"
        },
        "outputId": "4ced76db-336e-4bf5-9b8d-8a7122ec104d"
      },
      "execution_count": null,
      "outputs": [
        {
          "output_type": "stream",
          "name": "stdout",
          "text": [
            "hot:True\n",
            "check:False\n"
          ]
        }
      ]
    },
    {
      "cell_type": "markdown",
      "source": [
        "**Conversion** between different data types:"
      ],
      "metadata": {
        "id": "5rMBWAnHodDn"
      }
    },
    {
      "cell_type": "code",
      "source": [
        "a = 12.6\n",
        "b = 5\n",
        "\n",
        "r1 = int(a)\n",
        "print (f\"a:{a}, type:{type(a)} - r1:{r1} - type:{type(r1)}\")\n",
        "\n",
        "r2 = float(b)\n",
        "print (f\"b:{b} - type:{type(b)} - r2:{r2} - type:{type(r2)}\")\n",
        "\n",
        "r3 = str(a)\n",
        "print (f\"a:{a} - type:{type(a)} - r3:{r3} - type:{type(r3)}\")"
      ],
      "metadata": {
        "id": "GXCEvZ7YojWf",
        "colab": {
          "base_uri": "https://localhost:8080/"
        },
        "outputId": "22dbcfa6-86c7-4657-c173-75cce1af1a66"
      },
      "execution_count": null,
      "outputs": [
        {
          "output_type": "stream",
          "name": "stdout",
          "text": [
            "a:12.6, type:<class 'float'> - r1:12 - type:<class 'int'>\n",
            "b:5 - type:<class 'int'> - r2:5.0 - type:<class 'float'>\n",
            "a:12.6 - type:<class 'float'> - r3:12.6 - type:<class 'str'>\n"
          ]
        }
      ]
    },
    {
      "cell_type": "markdown",
      "source": [
        "**Strings** can be declared with single or double quotes"
      ],
      "metadata": {
        "id": "YAJRfcZdm9h4"
      }
    },
    {
      "cell_type": "code",
      "source": [
        "mystring1 = \"This is a string.\"                               # typical in the EU\n",
        "mystring2 = 'This is another string.'                         # typical in the US\n",
        "mystring3 = 'This is a string with a \"quotation\".'            # error-prone\n",
        "mystring4 = \"This is a string with \\\"another quotation\\\".\"    # better\n",
        "\n",
        "\n",
        "print(mystring1)\n",
        "print(mystring2)\n",
        "print(mystring3)\n",
        "print(mystring4)"
      ],
      "metadata": {
        "id": "JpkE15JWnGXw",
        "colab": {
          "base_uri": "https://localhost:8080/"
        },
        "outputId": "171b4b7b-3480-4f11-e90d-9d844db7f157"
      },
      "execution_count": null,
      "outputs": [
        {
          "output_type": "stream",
          "name": "stdout",
          "text": [
            "This is a string.\n",
            "This is another string.\n",
            "This is a string with a \"quotation\".\n",
            "This is a string with \"another quotation\".\n"
          ]
        }
      ]
    },
    {
      "cell_type": "markdown",
      "source": [
        "Additional operators for strings:\n",
        "*  **len**: provides string length\n",
        "*  **strip**: removes leading/trailing spaces/tabs/new lines\n",
        "*  **upper**: converts to uppercase\n",
        "*  **lower**: convers to lowercase"
      ],
      "metadata": {
        "id": "c_Hwd4ouqv2v"
      }
    },
    {
      "cell_type": "code",
      "source": [
        "string1  = \" This is a string.  \"  # there are 1 leading space and 2 trailing spaces\n",
        "s1 = \"New string.\"\n",
        "l = len(string1)\n",
        "print(f\"length:{l}\")\n",
        "\n",
        "string2 = string1.strip()\n",
        "print(\"string2: \", string2)\n",
        "\n",
        "string3 = string1.upper()\n",
        "print(\"string3: \", string3)\n",
        "\n",
        "string4 = string1.lower()\n",
        "print(\"string4: \", string4)\n"
      ],
      "metadata": {
        "id": "hIo01ggSrBZh",
        "colab": {
          "base_uri": "https://localhost:8080/"
        },
        "outputId": "fbe080f4-7390-4eda-f890-36b2a109ab0b"
      },
      "execution_count": null,
      "outputs": [
        {
          "output_type": "stream",
          "name": "stdout",
          "text": [
            "length:20\n",
            "string2:  This is a string.\n",
            "string3:   THIS IS A STRING.  \n",
            "string4:   this is a string.  \n"
          ]
        }
      ]
    },
    {
      "cell_type": "markdown",
      "source": [
        "**Substrings**\n",
        "\n",
        "syntax: `string_name[start_id:stop_id]`\n",
        "\n",
        "* start_id --> included, starts from 0\n",
        "* stop_id  --> excluded\n",
        "\n",
        "Special cases:\n",
        "* `string_name[:x] # from the beginning to x-th character`\n",
        "* `string_name[x:] # from x-th character to the end`\n",
        "\n"
      ],
      "metadata": {
        "id": "5KbqLDoTJ5sY"
      }
    },
    {
      "cell_type": "code",
      "source": [
        "\"\"\"\n",
        "print(f\"{string1[:5]}\")\n",
        "print(f\"{string1[4:9]}\")\n",
        "print(f\"{string1[12:]}\")\"\"\"\n",
        "\n",
        "ss1 = string1[:5]\n",
        "print(string1, \" - \", len(string1),\"\\n\")\n",
        "print(ss1, \" - \", len(ss1),\"\\n\\n\")\n",
        "\n",
        "print(string1[15:])"
      ],
      "metadata": {
        "id": "WByClLXuM_Iv",
        "colab": {
          "base_uri": "https://localhost:8080/"
        },
        "outputId": "edbf28ad-30c0-443e-e75b-cac18d4a5037"
      },
      "execution_count": null,
      "outputs": [
        {
          "output_type": "stream",
          "name": "stdout",
          "text": [
            " This is a string.    -  20 \n",
            "\n",
            " This  -  5 \n",
            "\n",
            "\n",
            "ng.  \n"
          ]
        }
      ]
    },
    {
      "cell_type": "markdown",
      "source": [
        "**String concatenation**\n",
        "\n",
        "syntax: `string3 = string1 + string2`"
      ],
      "metadata": {
        "id": "mt-Y_GF-74wY"
      }
    },
    {
      "cell_type": "code",
      "source": [
        "s1 = \"Last sensed value by \"\n",
        "device = \"Gauge #1\"\n",
        "val = \"56.9\"\n",
        "uom = \"ppm\"\n",
        "\n",
        "sc = s1 + device + val + uom\n",
        "\n",
        "print(s1 + device + \": \" + str(val) + uom + \".\\n\")\n",
        "print(sc)"
      ],
      "metadata": {
        "id": "UFbnyL-w8FyU",
        "colab": {
          "base_uri": "https://localhost:8080/"
        },
        "outputId": "b8f83537-79c3-426a-962c-f45535dd3e8a"
      },
      "execution_count": null,
      "outputs": [
        {
          "output_type": "stream",
          "name": "stdout",
          "text": [
            "Last sensed value by Gauge #1: 56.9ppm.\n",
            "\n",
            "Last sensed value by Gauge #156.9ppm\n"
          ]
        }
      ]
    },
    {
      "cell_type": "markdown",
      "source": [
        "**String escape characters**\n",
        "\n",
        "Escape characters are needed to insert characters that would not be allowed to be included in a string.\n",
        "The escape character is made up of a backslash `\\` plus the character you need to insert in your string.\n",
        "\n",
        "An example of an illegal character is a double quote inside a string that is surrounded by double quotes, so that correct string boundaries are not identified by the Python interpreter.\n",
        "\n",
        "**WRONG:**  `string = \"We are the so-called \"Vikings\" from the north.\"`\n",
        "\n",
        "**CORRECT:**  `string = \"We are the so-called \\\"Vikings\\\" from the north.\"`\n",
        "\n",
        "\n",
        "\n",
        "*   `\\'`    Single quote\n",
        "*   `\\\"`    Double quote\n",
        "*   `\\\\`    Backslash\n",
        "*   `\\n`    New line\n",
        "*   `\\r`    Carriage return\n",
        "*   `\\t`    Tabulation\n",
        "*   `\\b`    Backspace\n",
        "*   `\\f`    Form feed\n",
        "*   `\\ooo`  Octal value\n",
        "*   `\\xhh`  Hex value\n",
        "\n"
      ],
      "metadata": {
        "id": "bgfD5AEA8t6-"
      }
    },
    {
      "cell_type": "markdown",
      "source": [
        "**None type**\n",
        "\n",
        "*  This type specifies that a given reference does not contain data.\n",
        "* It is useful to:\n",
        "  * represent missing data in data structures (e.g., lists, tables)\n",
        "  * initialise an empty variable that will be assigned later on (e.g., when computing min/max)\n",
        "\n",
        "*Syntax:* `var = None`\n",
        "\n",
        "Or, in Numpy and Pandas:\n",
        "`np.nan`"
      ],
      "metadata": {
        "id": "F-qslF-wG6t4"
      }
    },
    {
      "cell_type": "markdown",
      "source": [
        "\n",
        "\n",
        "---\n",
        "\n",
        "\n",
        "\n",
        "---\n",
        "\n",
        "\n",
        "\n",
        "---\n",
        "\n",
        "**TUPLES**  \n",
        "*(Tuples are built-in immutable sequences!!!)*\n"
      ],
      "metadata": {
        "id": "m8MquLqyA79v"
      }
    },
    {
      "cell_type": "code",
      "source": [
        "tup1 = (\"Rome\", \"Italy\")    # City and State\n",
        "tup2 = \"London\", \"UK\"       # the same but w.o. parentheses (which are optional)\n",
        "\n",
        "tup3 = (\"Milan\", 5, 12.4)   # a tuple can contain different data types\n",
        "\n",
        "tup4 = (\"New York\",)        # a tuple can contain a single element"
      ],
      "metadata": {
        "id": "_YjEp_IpBRVN"
      },
      "execution_count": null,
      "outputs": []
    },
    {
      "cell_type": "markdown",
      "source": [
        "How to assign a tuple to a set of variables:"
      ],
      "metadata": {
        "id": "0L7ZQq8aB9nE"
      }
    },
    {
      "cell_type": "code",
      "source": [
        "tup5 = (\"Rome\", \"Italy\", 25.6)\n",
        "city, country, temp = tup5\n",
        "\n",
        "print(f\"City:\\t\\t {city},\\t\\t\\t\\t type:{type(city)}\")\n",
        "print(f\"Country:\\t {country},\\t\\t\\t\\t type:{type(country)}\")\n",
        "print(f\"Temperature:\\t {temp},\\t\\t\\t\\t type:{type(temp)}\")\n",
        "print(f\"tuple:\\t\\t {tup5},\\t type:{type(tup5)}\")"
      ],
      "metadata": {
        "id": "XejrCBxeCDfM",
        "colab": {
          "base_uri": "https://localhost:8080/"
        },
        "outputId": "77b5a149-ec9d-40e6-c013-66c37790bdc1"
      },
      "execution_count": null,
      "outputs": [
        {
          "output_type": "stream",
          "name": "stdout",
          "text": [
            "City:\t\t Rome,\t\t\t\t type:<class 'str'>\n",
            "Country:\t Italy,\t\t\t\t type:<class 'str'>\n",
            "Temperature:\t 25.6,\t\t\t\t type:<class 'float'>\n",
            "tuple:\t\t ('Rome', 'Italy', 25.6),\t type:<class 'tuple'>\n"
          ]
        }
      ]
    },
    {
      "cell_type": "markdown",
      "source": [
        "How to assign a set of variables to a tuple:"
      ],
      "metadata": {
        "id": "esH_soApCpH9"
      }
    },
    {
      "cell_type": "code",
      "source": [
        "city = \"Rome\"\n",
        "country = \"Italy\"\n",
        "mintemp = 6.9\n",
        "maxtemp = 13.8\n",
        "\n",
        "tup_city = (city, country)\n",
        "tup_temps = (mintemp, maxtemp)\n",
        "\n",
        "print(tup_city)\n",
        "print(tup_temps)"
      ],
      "metadata": {
        "id": "1fAWhXSdCrfG",
        "colab": {
          "base_uri": "https://localhost:8080/"
        },
        "outputId": "ecda4e4b-44a3-47d6-d915-a69718497d48"
      },
      "execution_count": null,
      "outputs": [
        {
          "output_type": "stream",
          "name": "stdout",
          "text": [
            "('Rome', 'Italy')\n",
            "(6.9, 13.8)\n"
          ]
        }
      ]
    },
    {
      "cell_type": "markdown",
      "source": [
        "How to concatenate tuples:"
      ],
      "metadata": {
        "id": "WPXEz8qdDct5"
      }
    },
    {
      "cell_type": "code",
      "source": [
        "tup_all = tup_city + tup_temps\n",
        "\n",
        "print(tup_all)"
      ],
      "metadata": {
        "id": "z0REHgwFDeZR",
        "colab": {
          "base_uri": "https://localhost:8080/"
        },
        "outputId": "bef81be9-9661-4581-d984-f6e81af7f000"
      },
      "execution_count": null,
      "outputs": [
        {
          "output_type": "stream",
          "name": "stdout",
          "text": [
            "('Rome', 'Italy', 6.9, 13.8)\n"
          ]
        }
      ]
    },
    {
      "cell_type": "markdown",
      "source": [
        "**How to access tuple elements**\n",
        "\n",
        "syntax: `tuple[start_id:stop_id]`\n",
        "\n",
        "*`start_id` is included; `stop_id` is excluded*"
      ],
      "metadata": {
        "id": "qA0iQRJBDtT-"
      }
    },
    {
      "cell_type": "code",
      "source": [
        "tup = (\"first\", \"second\", \"third\", 4, 5, 6)\n",
        "\n",
        "# assign the first element of the tuple to a variable\n",
        "v1 = tup[0]\n",
        "print(v1)\n",
        "\n",
        "# create a new tuple with the first three elements of the original tuple\n",
        "tup_s1 = tup[0:3]\n",
        "print(tup_s1)\n",
        "\n",
        "# create a new tuple with the last three elements of the original tuple\n",
        "tup_s2 = tup[3:]\n",
        "print(tup_s2)\n",
        "\n",
        "# create a new tuple from the original tuple, without the last two elements\n",
        "# (negative indexes should be used here)\n",
        "tup_s3 = tup[:-2]\n",
        "print(tup_s3)\n",
        "\n",
        "\n"
      ],
      "metadata": {
        "id": "_HVTAcVcEU97",
        "colab": {
          "base_uri": "https://localhost:8080/"
        },
        "outputId": "5fb2cd94-3acc-4f5b-fbad-9b860acdcce2"
      },
      "execution_count": null,
      "outputs": [
        {
          "output_type": "stream",
          "name": "stdout",
          "text": [
            "first\n",
            "('first', 'second', 'third')\n",
            "(4, 5, 6)\n",
            "('first', 'second', 'third', 4)\n"
          ]
        }
      ]
    },
    {
      "cell_type": "markdown",
      "source": [
        "\n",
        "\n",
        "---\n",
        "**LISTS**\n",
        "\n",
        "*Mutable lists of heterogeneous (i.e., with different data types) elements*\n"
      ],
      "metadata": {
        "id": "hsineiwSGhBN"
      }
    },
    {
      "cell_type": "code",
      "source": [
        "# Creation\n",
        "l0 = []                         # empty list\n",
        "l1 = [1, \"text\", 8.7, None]     # list created with different datatypes\n",
        "print(\"l1: \", l1, \" - \", type(l1))\n",
        "\n",
        "\n",
        "# Creation from variables\n",
        "id2 = 2\n",
        "str2 = \"new text\"\n",
        "val2 = 9.2\n",
        "note2 = None\n",
        "\n",
        "l2 = [id2, str2, val2, note2]\n",
        "print(\"l2: \", l2, \" - \", type(l2))\n",
        "\n",
        "\n",
        "# Assignment from list to variables\n",
        "id1, str1, val1, note1 = l1\n",
        "\n",
        "print(f\"id1:\\t {id1}\")\n",
        "print(f\"str1:\\t {str1}\")\n",
        "print(f\"val1:\\t {val1}\")\n",
        "print(f\"note1:\\t {note1}\")\n",
        "\n",
        "\n"
      ],
      "metadata": {
        "id": "tvVwI_mQGut2",
        "colab": {
          "base_uri": "https://localhost:8080/"
        },
        "outputId": "d3805c9f-d59d-49bc-f7bd-472873075c21"
      },
      "execution_count": null,
      "outputs": [
        {
          "output_type": "stream",
          "name": "stdout",
          "text": [
            "l1:  [1, 'text', 8.7, None]  -  <class 'list'>\n",
            "l2:  [2, 'new text', 9.2, None]  -  <class 'list'>\n",
            "id1:\t 1\n",
            "str1:\t text\n",
            "val1:\t 8.7\n",
            "note1:\t None\n"
          ]
        }
      ]
    },
    {
      "cell_type": "markdown",
      "source": [
        "How to add elements and to concatenate lists:"
      ],
      "metadata": {
        "id": "rGQ8V963IvsS"
      }
    },
    {
      "cell_type": "code",
      "source": [
        "l1 = [1,2,3]\n",
        "l2 = [5,6,7]\n",
        "\n",
        "l1.append(4)    # append an element\n",
        "l3 = l1 + l2    # concatenate two lists\n",
        "\n",
        "print(\"l1 = \", l1)\n",
        "print(\"l2 = \", l2)\n",
        "print(\"l3 = \", l3)"
      ],
      "metadata": {
        "id": "-MSw85HsIyYT",
        "colab": {
          "base_uri": "https://localhost:8080/"
        },
        "outputId": "74aa0c85-d2e7-4a21-863c-307e94957e66"
      },
      "execution_count": null,
      "outputs": [
        {
          "output_type": "stream",
          "name": "stdout",
          "text": [
            "l1 =  [1, 2, 3, 4]\n",
            "l2 =  [5, 6, 7]\n",
            "l3 =  [1, 2, 3, 4, 5, 6, 7]\n"
          ]
        }
      ]
    },
    {
      "cell_type": "markdown",
      "source": [
        "How to access list elements (the same as for tuples, plus assignment):"
      ],
      "metadata": {
        "id": "yONHd0ppJWgk"
      }
    },
    {
      "cell_type": "code",
      "source": [
        "l1 = [0,2,4,6,8]\n",
        "v1 = l1[0]\n",
        "v3 = l1[2]\n",
        "print(\"l1: \",l1)\n",
        "print(\"v1: \",v1)\n",
        "print(\"v3: \",v3)\n",
        "\n",
        "l1[0] = \"start\"\n",
        "print(\"l1: \",l1)"
      ],
      "metadata": {
        "id": "vXwshpOFJfDn",
        "colab": {
          "base_uri": "https://localhost:8080/"
        },
        "outputId": "6f58d6a7-6013-4028-f585-940a0a832bfc"
      },
      "execution_count": null,
      "outputs": [
        {
          "output_type": "stream",
          "name": "stdout",
          "text": [
            "l1:  [0, 2, 4, 6, 8]\n",
            "v1:  0\n",
            "v3:  4\n",
            "l1:  ['start', 2, 4, 6, 8]\n"
          ]
        }
      ]
    },
    {
      "cell_type": "markdown",
      "source": [
        "Lists can be accessed by specifying a step:\n",
        "*  step = 2 --> pick an element every two - or, alternatively speaking, skip 1 element every two)\n",
        "*  step = -1 --> reads the list in the reverse order\n",
        "*  step = -2 --> reads in reverse order and skip 1 element\n",
        "\n",
        "Keep in mind that the sintax is: `list[start_id:stop_id:step]`\n",
        "\n",
        "where `start_id` is included, `stop_id` is excluded."
      ],
      "metadata": {
        "id": "uKE0xtErTn7A"
      }
    },
    {
      "cell_type": "code",
      "source": [
        "l1 = [0,1,2,3,4,5]    # original list\n",
        "l2 = l1[::3]          # pick an item every two from the original list starting from the first element up to the last one\n",
        "l3 = l1[::-1]\n",
        "l4 = l1[::-2]\n",
        "l2inv = l1[2::-2]\n",
        "\n",
        "print(\"l1: \",l1)\n",
        "print(\"l2: \",l2)\n",
        "\n",
        "print(\"l3: \",l3)\n",
        "\n",
        "print(\"l4: \",l4)\n",
        "\n",
        "print(\"l2inv: \",l2inv)"
      ],
      "metadata": {
        "id": "W3OS_lnTUQVJ",
        "colab": {
          "base_uri": "https://localhost:8080/"
        },
        "outputId": "019efd1e-ba7c-4a67-e4b0-88cd7508144f"
      },
      "execution_count": null,
      "outputs": [
        {
          "output_type": "stream",
          "name": "stdout",
          "text": [
            "l1:  [0, 1, 2, 3, 4, 5]\n",
            "l2:  [0, 3]\n",
            "l3:  [5, 4, 3, 2, 1, 0]\n",
            "l4:  [5, 3, 1]\n",
            "l2inv:  [2, 0]\n"
          ]
        }
      ]
    },
    {
      "cell_type": "markdown",
      "source": [
        "How to remove elements:"
      ],
      "metadata": {
        "id": "YyzyQVWtVY3s"
      }
    },
    {
      "cell_type": "code",
      "source": [
        "l1 = [0,1,2,3,4,5,6,7,8,9]\n",
        "print(l1)\n",
        "\n",
        "del l1[2]     # remove one value\n",
        "print(l1)\n",
        "\n",
        "del l1[0:2]   # remove a range of values\n",
        "print(l1)\n",
        "\n",
        "del l1[::2]   # remove one value every two\n",
        "print(l1)"
      ],
      "metadata": {
        "id": "mGZmZOToVcBc",
        "colab": {
          "base_uri": "https://localhost:8080/"
        },
        "outputId": "a0368813-43a0-4c70-a0c2-50e829600ef5"
      },
      "execution_count": null,
      "outputs": [
        {
          "output_type": "stream",
          "name": "stdout",
          "text": [
            "[0, 1, 2, 3, 4, 5, 6, 7, 8, 9]\n",
            "[0, 1, 3, 4, 5, 6, 7, 8, 9]\n",
            "[3, 4, 5, 6, 7, 8, 9]\n",
            "[4, 6, 8]\n"
          ]
        }
      ]
    },
    {
      "cell_type": "markdown",
      "source": [
        "How to check for a specific element:"
      ],
      "metadata": {
        "id": "RuD7BRJnV_vd"
      }
    },
    {
      "cell_type": "code",
      "source": [
        "l1 = [0,1,2,3,4,5,6,7]\n",
        "target1 = 5\n",
        "target2 = 15\n",
        "\n",
        "if target1 in l1:\n",
        "  print(\"target1 found.\")\n",
        "else:\n",
        "  print(\"target1 not found.\")\n",
        "\n",
        "if target2 in l1:\n",
        "  print(\"target2 found.\")\n",
        "else:\n",
        "  print(\"target2 not found.\")"
      ],
      "metadata": {
        "id": "1EOJ2tGaWCnE",
        "colab": {
          "base_uri": "https://localhost:8080/"
        },
        "outputId": "d5f19b7e-a201-4da0-f93a-5af050a1573d"
      },
      "execution_count": null,
      "outputs": [
        {
          "output_type": "stream",
          "name": "stdout",
          "text": [
            "target1 found.\n",
            "target2 not found.\n"
          ]
        }
      ]
    },
    {
      "cell_type": "markdown",
      "source": [
        "How to iterate over list elements:"
      ],
      "metadata": {
        "id": "9dGEQeGvWZZV"
      }
    },
    {
      "cell_type": "code",
      "source": [
        "l1 = [0,1,2,3,4,5,6,7]\n",
        "\n",
        "for i in l1:\n",
        "  l1[i] = l1[i]+10\n",
        "  print(i, \": \", l1[i])\n",
        "\n",
        "print(len(l1))\n",
        "\n",
        "l1b = [0,1,2,3,4,5,6,7,5,6,6,7,7,7,7,11,29]\n",
        "print(l1b.count(7))\n",
        "print(sorted(l1b))"
      ],
      "metadata": {
        "id": "bO2uDDaeWZFf",
        "colab": {
          "base_uri": "https://localhost:8080/"
        },
        "outputId": "c2cebca4-0177-473b-f90e-0242edb2de3d"
      },
      "execution_count": null,
      "outputs": [
        {
          "output_type": "stream",
          "name": "stdout",
          "text": [
            "0 :  10\n",
            "1 :  11\n",
            "2 :  12\n",
            "3 :  13\n",
            "4 :  14\n",
            "5 :  15\n",
            "6 :  16\n",
            "7 :  17\n",
            "8\n",
            "5\n",
            "[0, 1, 2, 3, 4, 5, 5, 6, 6, 6, 7, 7, 7, 7, 7, 11, 29]\n"
          ]
        }
      ]
    },
    {
      "cell_type": "markdown",
      "source": [
        "**Other useful methods for lists:**\n",
        "*  `len(list1)`\n",
        "  *  find the number of elements in list `list1`\n",
        "*  `list1.count(element)`\n",
        "  *  count the number of occurrences of `element` within `list1`\n",
        "*  `list1.extend(list2)`\n",
        "  *  extend list `list1` with another list `list2`\n",
        "*  `list1.insert(posid, element)`\n",
        "  *  insert a new element `element` at position `posid` into list `list1`\n",
        "*  `list1.pop(posid)`\n",
        "  *  remove from list `list1` the element placed at position `posid`\n",
        "*  `max(list1)`\n",
        "  *  find the max value in list `list1`\n",
        "*  `min(list1)`\n",
        "  *  find the min value in list `list1`\n",
        "*  `sum(list1)`\n",
        "  *  sum all values in list `list1`\n",
        "*  `list2 = sorted(list1)`\n",
        "  *  create a new list `list2` from the sorted elements of list `list1`"
      ],
      "metadata": {
        "id": "F9TdtVOfW0mP"
      }
    },
    {
      "cell_type": "markdown",
      "source": [
        "\n",
        "\n",
        "---\n",
        "**SETS**\n",
        "\n",
        "Sets are unordered collections of unique elements (i.e., you cannot have duplicates).\n"
      ],
      "metadata": {
        "id": "_VkVEUWIZQPp"
      }
    },
    {
      "cell_type": "code",
      "source": [
        "# Create an empty set\n",
        "set0 = set()\n",
        "\n",
        "# Create a set from three integers\n",
        "set1 = {2, 4, 6}\n",
        "\n",
        "# Create a set from heterogeneous datatypes\n",
        "set2 = {1, 2, 'a', 'b'}\n",
        "\n",
        "# Create a set from a list\n",
        "set3 = set([10, 12, 14, 16])\n",
        "print(set3)\n",
        "print(type(set3))\n"
      ],
      "metadata": {
        "id": "TsLNvxXkZZsp",
        "colab": {
          "base_uri": "https://localhost:8080/"
        },
        "outputId": "7ca78295-c9c2-44c7-ee0d-cd742de776f3"
      },
      "execution_count": null,
      "outputs": [
        {
          "output_type": "stream",
          "name": "stdout",
          "text": [
            "{16, 10, 12, 14}\n",
            "<class 'set'>\n"
          ]
        }
      ]
    },
    {
      "cell_type": "markdown",
      "source": [
        "**Operators**\n",
        "\n",
        "Given two sets: `s1={1,2,3}`and  `s2={3,\"a\",\"b\"}`\n",
        "\n",
        "* **union**: `s1 | s2`\n",
        "* **intersection**: `s1 & s2`\n",
        "* **difference**: `s1 - s2`\n",
        "* **subset**: `s1 <= s2`\n",
        "* **superset**: `s1 >= s2`\n"
      ],
      "metadata": {
        "id": "HIgyFI-fZwh0"
      }
    },
    {
      "cell_type": "code",
      "source": [
        "s1 = {1,2,3}\n",
        "s2 = {3, \"a\", \"b\"}\n",
        "\n",
        "su = s1 | s2\n",
        "print(su, \"\\n\")\n",
        "\n",
        "si = s1 & s2\n",
        "print(si,\"\\n\")\n",
        "\n",
        "sd = s1 - s2\n",
        "print(sd, \"\\n\")\n",
        "\n",
        "sub1 = s2 <= s1\n",
        "print(sub1)\n",
        "\n",
        "sub2 = {1,2} <= s1\n",
        "print(sub2)\n",
        "\n",
        "sup1 = {1,2,3,4,5} >= s1\n",
        "print(sup1)\n"
      ],
      "metadata": {
        "id": "qTNkNlbQa0NL",
        "colab": {
          "base_uri": "https://localhost:8080/"
        },
        "outputId": "935a0c77-21b7-4d58-e479-79e51b6cc890"
      },
      "execution_count": null,
      "outputs": [
        {
          "output_type": "stream",
          "name": "stdout",
          "text": [
            "{1, 2, 3, 'b', 'a'} \n",
            "\n",
            "{3} \n",
            "\n",
            "{1, 2} \n",
            "\n",
            "False\n",
            "True\n",
            "True\n"
          ]
        }
      ]
    },
    {
      "cell_type": "markdown",
      "source": [
        "How to remove/add elements:"
      ],
      "metadata": {
        "id": "pfwgL8c9br1E"
      }
    },
    {
      "cell_type": "code",
      "source": [
        "s1 = {1,2,3}\n",
        "print(s1)\n",
        "\n",
        "s1.add(4)\n",
        "print(s1)\n",
        "\n",
        "s1.remove(3)\n",
        "print(s1)\n",
        "\n"
      ],
      "metadata": {
        "id": "oNu8zf7UbxdE",
        "colab": {
          "base_uri": "https://localhost:8080/"
        },
        "outputId": "0377d315-6802-46f6-e392-e826e34746e2"
      },
      "execution_count": null,
      "outputs": [
        {
          "output_type": "stream",
          "name": "stdout",
          "text": [
            "{1, 2, 3}\n",
            "{1, 2, 3, 4}\n",
            "{1, 2, 4}\n"
          ]
        }
      ]
    },
    {
      "cell_type": "markdown",
      "source": [
        "\n",
        "\n",
        "---\n",
        "**DICTIONARIES**\n",
        "\n",
        "* Dictionaries are collections of key-value pairs, where **keys are unique**\n",
        "* They offer fast key-based access to elements\n",
        "\n"
      ],
      "metadata": {
        "id": "LheKk64ycFqu"
      }
    },
    {
      "cell_type": "code",
      "source": [
        "# Define an empty dictionary\n",
        "d1 = {}\n",
        "print(d1)\n",
        "print(type(d1))\n",
        "\n",
        "# Define and populate a dictionary\n",
        "d2 = {\n",
        "    \"First Name\":\"John\",\n",
        "    \"Last Name\":\"Smith\",\n",
        "    \"Age\":30,\n",
        "    \"Airplane\":\"Supermarine MK.V Spitfire\"\n",
        "    }\n",
        "print(d2)\n",
        "print(type(d2))\n"
      ],
      "metadata": {
        "id": "YaFBp8EIcXHH"
      },
      "execution_count": null,
      "outputs": []
    },
    {
      "cell_type": "markdown",
      "source": [
        "# **Keys**\n",
        "\n",
        "* they must be hashable data types\n",
        "* int, float, string, bool, tuple are allowed\n",
        "* list, dictionaries are not allowed\n",
        "\n",
        "**Values**\n",
        "\n",
        "* any Python object/datatype is allowed"
      ],
      "metadata": {
        "id": "658vqrqmc22u"
      }
    },
    {
      "cell_type": "markdown",
      "source": [
        "How to access values:"
      ],
      "metadata": {
        "id": "AUGRIkKRdP52"
      }
    },
    {
      "cell_type": "code",
      "source": [
        "pilot_age = d2[\"Age\"]\n",
        "print(pilot_age)\n",
        "\n",
        "pilot_plane = d2[\"Airplane\"]\n",
        "print(pilot_plane)\n",
        "\n",
        "\n",
        "# be careful with undefined keys\n",
        "pilot_st = d2[\"Station\"]\n",
        "print(pilot_st)\n",
        "\n"
      ],
      "metadata": {
        "id": "w7564woKdSVm",
        "colab": {
          "base_uri": "https://localhost:8080/",
          "height": 283
        },
        "outputId": "1dcf3448-d684-46b2-923b-a3a1e3a9a027"
      },
      "execution_count": null,
      "outputs": [
        {
          "output_type": "stream",
          "name": "stdout",
          "text": [
            "30\n",
            "Supermarine MK.V Spitfire\n"
          ]
        },
        {
          "output_type": "error",
          "ename": "KeyError",
          "evalue": "ignored",
          "traceback": [
            "\u001b[0;31m---------------------------------------------------------------------------\u001b[0m",
            "\u001b[0;31mKeyError\u001b[0m                                  Traceback (most recent call last)",
            "\u001b[0;32m<ipython-input-42-cf61902800fb>\u001b[0m in \u001b[0;36m<module>\u001b[0;34m()\u001b[0m\n\u001b[1;32m      7\u001b[0m \u001b[0;34m\u001b[0m\u001b[0m\n\u001b[1;32m      8\u001b[0m \u001b[0;31m# be careful with undefined keys\u001b[0m\u001b[0;34m\u001b[0m\u001b[0;34m\u001b[0m\u001b[0;34m\u001b[0m\u001b[0m\n\u001b[0;32m----> 9\u001b[0;31m \u001b[0mpilot_st\u001b[0m \u001b[0;34m=\u001b[0m \u001b[0md2\u001b[0m\u001b[0;34m[\u001b[0m\u001b[0;34m\"Station\"\u001b[0m\u001b[0;34m]\u001b[0m\u001b[0;34m\u001b[0m\u001b[0;34m\u001b[0m\u001b[0m\n\u001b[0m\u001b[1;32m     10\u001b[0m \u001b[0mprint\u001b[0m\u001b[0;34m(\u001b[0m\u001b[0mpilot_st\u001b[0m\u001b[0;34m)\u001b[0m\u001b[0;34m\u001b[0m\u001b[0;34m\u001b[0m\u001b[0m\n\u001b[1;32m     11\u001b[0m \u001b[0;34m\u001b[0m\u001b[0m\n",
            "\u001b[0;31mKeyError\u001b[0m: 'Station'"
          ]
        }
      ]
    },
    {
      "cell_type": "markdown",
      "source": [
        "How to print all keys and all values:"
      ],
      "metadata": {
        "id": "fGXeLvqui4tq"
      }
    },
    {
      "cell_type": "code",
      "source": [
        "d_keys = list(d2.keys())\n",
        "print(\"keys: \", d_keys)\n",
        "\n",
        "d_vals = list(d2.values())\n",
        "print(\"values: \", d_vals)"
      ],
      "metadata": {
        "id": "uykRdUePi7Ub",
        "colab": {
          "base_uri": "https://localhost:8080/"
        },
        "outputId": "45b9f0d1-d34b-402f-e0dd-32c44a4acb46"
      },
      "execution_count": null,
      "outputs": [
        {
          "output_type": "stream",
          "name": "stdout",
          "text": [
            "keys:  ['First Name', 'Last Name', 'Age', 'Airplane']\n",
            "values:  ['John', 'Smith', 30, 'Supermarine MK.V Spitfire']\n"
          ]
        }
      ]
    },
    {
      "cell_type": "markdown",
      "source": [
        "Other useful methods:"
      ],
      "metadata": {
        "id": "w77Oc6OsjO5j"
      }
    },
    {
      "cell_type": "code",
      "source": [
        "d2 = {\"First Name\":\"John\", \"Last Name\":\"Smith\", \"Age\":30, \"Airplane\":\"Supermarine MK.V Spitfire\"}\n",
        "\n",
        "# Add a new key\n",
        "d2[\"Station\"] = \"RAF Belton Park\"\n",
        "print(d2,\"\\n\")\n",
        "\n",
        "\n",
        "# Update an existing value\n",
        "d2[\"Airplane\"] = \"Hawker Hurricane\"\n",
        "print(d2)\n",
        "\n",
        "# Delete a key (along with its value)\n",
        "del d2[\"Age\"]\n",
        "print(d2)\n",
        "\n",
        "# Check whether a key exists\n",
        "if \"Age\" in d2:\n",
        "  print(\"\\\"Age\\\" key found.\")\n",
        "else:\n",
        "  print(\"\\\"Age\\\" key not found\")\n"
      ],
      "metadata": {
        "id": "xdwUR9l4jT96",
        "colab": {
          "base_uri": "https://localhost:8080/"
        },
        "outputId": "c8c78e08-c116-4208-da85-0bbf0e6cf2e6"
      },
      "execution_count": null,
      "outputs": [
        {
          "output_type": "stream",
          "name": "stdout",
          "text": [
            "{'First Name': 'John', 'Last Name': 'Smith', 'Age': 30, 'Airplane': 'Supermarine MK.V Spitfire', 'Station': 'RAF Belton Park'} \n",
            "\n",
            "{'First Name': 'John', 'Last Name': 'Smith', 'Age': 30, 'Airplane': 'Hawker Hurricane', 'Station': 'RAF Belton Park'}\n",
            "{'First Name': 'John', 'Last Name': 'Smith', 'Airplane': 'Hawker Hurricane', 'Station': 'RAF Belton Park'}\n",
            "\"Age\" key not found\n"
          ]
        }
      ]
    },
    {
      "cell_type": "markdown",
      "source": [
        "Example of usage:"
      ],
      "metadata": {
        "id": "PqnwTSCRlbtc"
      }
    },
    {
      "cell_type": "code",
      "source": [
        "mycart = {\"Keyboard\":19.99, \"Screen\":349.99, \"Mouse\":6.99}\n",
        "price = 0.0\n",
        "\n",
        "for k,v in mycart.items():\n",
        "  price += v\n",
        "print(f\"Total price: {price}€\")"
      ],
      "metadata": {
        "id": "ZU7jlmV6ldCE",
        "colab": {
          "base_uri": "https://localhost:8080/"
        },
        "outputId": "2deba430-e3c6-4b3d-dc2d-7c9d53c87014"
      },
      "execution_count": null,
      "outputs": [
        {
          "output_type": "stream",
          "name": "stdout",
          "text": [
            "Total price: 376.97€\n"
          ]
        }
      ]
    },
    {
      "cell_type": "markdown",
      "source": [
        "\n",
        "\n",
        "\n",
        "---\n",
        "---\n",
        "\n",
        "## **Tuples vs Lists vs Sets vs Dicts**\n",
        "\n",
        "![picture](https://drive.google.com/uc?id=16WnYBpaaCR58IgzmXY7EkMQeiilO44n1)\n",
        "\n",
        "\n",
        "![picture](https://drive.google.com/uc?id=1vzAwLEYq6uKZe19n9cj5BlPdJhH6buTt)"
      ],
      "metadata": {
        "id": "4wPmR56AKevJ"
      }
    },
    {
      "cell_type": "markdown",
      "source": [
        "\n",
        "\n",
        "---\n",
        "\n",
        "## **Shallow vs Deep Copy**\n",
        "\n",
        "![picture](https://drive.google.com/uc?id=1G8fxN6kbswIxaSyFQcue60xoXVqXC7G9)"
      ],
      "metadata": {
        "id": "uuW0YC0WDwtP"
      }
    },
    {
      "cell_type": "markdown",
      "source": [],
      "metadata": {
        "id": "R5HsShzWJjBA"
      }
    },
    {
      "cell_type": "markdown",
      "source": [
        "\n",
        "**Shallow copy - Example**\n"
      ],
      "metadata": {
        "id": "Ol45z7QvGCXP"
      }
    },
    {
      "cell_type": "code",
      "source": [
        "temp1 = {\"Rome\":[22,23,22], \"Milan\":[16,15,17]}\n",
        "temp2 = temp1.copy()\n",
        "\n",
        "print(\"temp1: \", temp1)\n",
        "print(\"temp2: \", temp2)\n",
        "\n",
        "# Since shallow copy just create a reference, every change to the original object is visible also in its shallow copy\n",
        "temp1[\"Rome\"].append(25)\n",
        "print(\"\\ntemp1: \", temp1)\n",
        "print(\"temp2: \", temp2)\n"
      ],
      "metadata": {
        "id": "uQvMIATnGAZX",
        "colab": {
          "base_uri": "https://localhost:8080/"
        },
        "outputId": "06181e56-fbd3-4910-df92-c7e63bc56e15"
      },
      "execution_count": null,
      "outputs": [
        {
          "output_type": "stream",
          "name": "stdout",
          "text": [
            "temp1:  {'Rome': [22, 23, 22], 'Milan': [16, 15, 17]}\n",
            "temp2:  {'Rome': [22, 23, 22], 'Milan': [16, 15, 17]}\n",
            "\n",
            "temp1:  {'Rome': [22, 23, 22, 25], 'Milan': [16, 15, 17]}\n",
            "temp2:  {'Rome': [22, 23, 22, 25], 'Milan': [16, 15, 17]}\n"
          ]
        }
      ]
    },
    {
      "cell_type": "markdown",
      "source": [
        "\n",
        "**Deep copy - Example**\n"
      ],
      "metadata": {
        "id": "vEgMh13ZHHrI"
      }
    },
    {
      "cell_type": "code",
      "source": [
        "import copy\n",
        "\n",
        "temp1 = {\"Rome\":[22,23,22], \"Milan\":[16,15,17]}\n",
        "temp2 = copy.deepcopy(temp1)\n",
        "\n",
        "print(\"temp1: \", temp1)\n",
        "print(\"temp2: \", temp2)\n",
        "\n",
        "# since deep copy creates a completely separated object, changes to the original object are not reflected in its deep copy\n",
        "temp1[\"Rome\"].append(25)\n",
        "print(\"\\ntemp1: \", temp1)\n",
        "print(\"temp2: \", temp2)"
      ],
      "metadata": {
        "id": "VeurbGb7HKOo",
        "colab": {
          "base_uri": "https://localhost:8080/"
        },
        "outputId": "f1552115-a992-491f-fa1b-b3438e2c10b6"
      },
      "execution_count": null,
      "outputs": [
        {
          "output_type": "stream",
          "name": "stdout",
          "text": [
            "temp1:  {'Rome': [22, 23, 22], 'Milan': [16, 15, 17]}\n",
            "temp2:  {'Rome': [22, 23, 22], 'Milan': [16, 15, 17]}\n",
            "\n",
            "temp1:  {'Rome': [22, 23, 22, 25], 'Milan': [16, 15, 17]}\n",
            "temp2:  {'Rome': [22, 23, 22], 'Milan': [16, 15, 17]}\n"
          ]
        }
      ]
    },
    {
      "cell_type": "markdown",
      "source": [
        "\n",
        "\n",
        "---\n",
        "\n",
        "## IF - ELIF - ELSE Statement\n",
        "\n",
        "\n",
        "**Syntax**\n",
        "```\n",
        "if <condition1>:\n",
        "   <instructions>\n",
        "elif <condition2>:\n",
        "   <instructions>\n",
        "else:\n",
        "   <instructions>\n",
        "```\n",
        "\n",
        "**Logical conditions**\n",
        "* Equals: `a == b`\n",
        "* Not equals: `a != b`\n",
        "* Less than: `a < b`\n",
        "* Less or equal to: `a <= b`\n",
        "* Greater than: `a > b`\n",
        "* Greater than or equal to: `a >= b`\n",
        "\n",
        "\n"
      ],
      "metadata": {
        "id": "WU85VL4uHwmR"
      }
    },
    {
      "cell_type": "code",
      "source": [
        "a = 200\n",
        "b = 33\n",
        "if b > a:\n",
        "  print(\"b is greater than a\")\n",
        "elif a == b:\n",
        "  print(\"a and b are equal\")\n",
        "else:\n",
        "  print(\"a is greater than b\")"
      ],
      "metadata": {
        "id": "ZaCV5wUzIyQx",
        "colab": {
          "base_uri": "https://localhost:8080/"
        },
        "outputId": "022006ae-e237-42f6-bc1d-57688d2ca5d1"
      },
      "execution_count": null,
      "outputs": [
        {
          "output_type": "stream",
          "name": "stdout",
          "text": [
            "a is greater than b\n"
          ]
        }
      ]
    },
    {
      "cell_type": "markdown",
      "source": [
        "\n",
        "\n",
        "---\n",
        "\n",
        "## WHILE Loop\n",
        "\n",
        "Iterate a given set of instructions until the specified condition is True:"
      ],
      "metadata": {
        "id": "lKMEaUogJR1f"
      }
    },
    {
      "cell_type": "code",
      "source": [
        "i = 1\n",
        "while i < 6:\n",
        "  print(i)\n",
        "  i += 1"
      ],
      "metadata": {
        "id": "iFiHwfYiLG7A",
        "colab": {
          "base_uri": "https://localhost:8080/"
        },
        "outputId": "00ee5938-9791-46d8-f077-3a7f8d08924b"
      },
      "execution_count": null,
      "outputs": [
        {
          "output_type": "stream",
          "name": "stdout",
          "text": [
            "1\n",
            "2\n",
            "3\n",
            "4\n",
            "5\n"
          ]
        }
      ]
    },
    {
      "cell_type": "markdown",
      "source": [
        "\n",
        "\n",
        "---\n",
        "## FOR Loop\n",
        "\n",
        "\n"
      ],
      "metadata": {
        "id": "eGvCk8RIL3ug"
      }
    },
    {
      "cell_type": "code",
      "source": [
        "for i in range(5,8):\n",
        "  print(f\"The value of i is {i}\")"
      ],
      "metadata": {
        "id": "JujrOIxQNX6B",
        "colab": {
          "base_uri": "https://localhost:8080/"
        },
        "outputId": "33a315c2-bbd3-4d74-f728-08a336084670"
      },
      "execution_count": null,
      "outputs": [
        {
          "output_type": "stream",
          "name": "stdout",
          "text": [
            "The value of i is 5\n",
            "The value of i is 6\n",
            "The value of i is 7\n"
          ]
        }
      ]
    },
    {
      "cell_type": "code",
      "source": [
        "fruits = [\"apple\", \"banana\", \"cherry\"]\n",
        "for x in fruits:\n",
        "  print(x)"
      ],
      "metadata": {
        "id": "IYL8lk6mNpNA",
        "colab": {
          "base_uri": "https://localhost:8080/"
        },
        "outputId": "a471456e-bcb0-46ce-fb64-3edbe5ca13e3"
      },
      "execution_count": null,
      "outputs": [
        {
          "output_type": "stream",
          "name": "stdout",
          "text": [
            "apple\n",
            "banana\n",
            "cherry\n"
          ]
        }
      ]
    },
    {
      "cell_type": "code",
      "source": [
        "for x in \"apple\":\n",
        "  print(x)"
      ],
      "metadata": {
        "id": "ZKCDhxX-NsMx",
        "colab": {
          "base_uri": "https://localhost:8080/"
        },
        "outputId": "2c761383-9b86-4b11-d948-88ccd3c7627b"
      },
      "execution_count": null,
      "outputs": [
        {
          "output_type": "stream",
          "name": "stdout",
          "text": [
            "a\n",
            "p\n",
            "p\n",
            "l\n",
            "e\n"
          ]
        }
      ]
    },
    {
      "cell_type": "markdown",
      "source": [
        "\n",
        "\n",
        "---\n",
        "## Break and Continue statements\n",
        "\n",
        "They are used in If-Elif / While / For loops\n"
      ],
      "metadata": {
        "id": "1IfD0H2ZLuZR"
      }
    },
    {
      "cell_type": "markdown",
      "source": [
        "**Break statement**: it stops the loop even if the while condition is still True:"
      ],
      "metadata": {
        "id": "sdYsAk56LO1Q"
      }
    },
    {
      "cell_type": "code",
      "source": [
        "i = 1\n",
        "while i < 6:\n",
        "  print(i)\n",
        "  if i == 3:\n",
        "    break\n",
        "  i += 1"
      ],
      "metadata": {
        "id": "a74hDghMLXlb"
      },
      "execution_count": null,
      "outputs": []
    },
    {
      "cell_type": "markdown",
      "source": [
        "**Continue statement**: it stop the current iteration and continue with the next one:"
      ],
      "metadata": {
        "id": "saQiGRoiLZcX"
      }
    },
    {
      "cell_type": "code",
      "source": [
        "i = 0\n",
        "while i < 6:\n",
        "  i += 1\n",
        "  if i == 3:\n",
        "    continue\n",
        "  print(i)"
      ],
      "metadata": {
        "id": "gsLf_TGpLgaY"
      },
      "execution_count": null,
      "outputs": []
    },
    {
      "cell_type": "markdown",
      "source": [
        "\n",
        "\n",
        "---\n",
        "\n",
        "## **FUNCTIONS**\n",
        "\n",
        "* A function is a block of code which only runs when it is called.\n",
        "* You can pass data, known as parameters, into a function.\n",
        "* A function can return data as a result.\n",
        "\n",
        "**Syntax:**\n",
        "```\n",
        "# Define a function\n",
        "def myFunction(arguments):\n",
        "  instructions\n",
        "\n",
        "# Call a function\n",
        "myFunction(arguments)\n",
        "```"
      ],
      "metadata": {
        "id": "PYEw6LrGN_Mx"
      }
    },
    {
      "cell_type": "markdown",
      "source": [
        "**Examples**"
      ],
      "metadata": {
        "id": "rudD1i3xRRVa"
      }
    },
    {
      "cell_type": "code",
      "source": [
        "# Example 1: single argument\n",
        "\n",
        "def square(x):\n",
        "  return x**2\n",
        "\n",
        "val = square(4)\n",
        "print(val)"
      ],
      "metadata": {
        "id": "14X_OE_0OoTI",
        "colab": {
          "base_uri": "https://localhost:8080/"
        },
        "outputId": "5fbb2211-3d56-4d43-db85-f2d5853f1e48"
      },
      "execution_count": null,
      "outputs": [
        {
          "output_type": "stream",
          "name": "stdout",
          "text": [
            "16\n"
          ]
        }
      ]
    },
    {
      "cell_type": "code",
      "source": [
        "# Example 2: multiple arguments\n",
        "def greetUser(fname, lname):\n",
        "  print(f\"\\nHello {fname} {lname}!\\n\")\n",
        "\n",
        "greetUser(\"John\",\"Smith\")"
      ],
      "metadata": {
        "id": "_-Uq8ukGPtop"
      },
      "execution_count": null,
      "outputs": []
    },
    {
      "cell_type": "code",
      "source": [
        "# Example 3: default argument value\n",
        "\n",
        "def my_function(country = \"Norway\"):\n",
        "  print(\"I am from \" + country)\n",
        "\n",
        "my_function(\"Sweden\")\n",
        "my_function(\"India\")\n",
        "my_function()\n",
        "my_function(\"Brazil\")"
      ],
      "metadata": {
        "id": "aA8i99IHQBaJ",
        "colab": {
          "base_uri": "https://localhost:8080/"
        },
        "outputId": "813661b5-ad75-4ee7-8ea0-c83e79eb5751"
      },
      "execution_count": null,
      "outputs": [
        {
          "output_type": "stream",
          "name": "stdout",
          "text": [
            "I am from Sweden\n",
            "I am from India\n",
            "I am from Norway\n",
            "I am from Brazil\n"
          ]
        }
      ]
    },
    {
      "cell_type": "code",
      "source": [
        "# Example 4: returning tuples\n",
        "\n",
        "def doubleFunction(a, b):\n",
        "  x = a+b\n",
        "  y = a-b\n",
        "  return x, y\n",
        "\n",
        "sum, diff = doubleFunction(10, 25)\n",
        "print(f\"Sum: {sum}\\nDiff: {diff}\")"
      ],
      "metadata": {
        "id": "72-EATiKRaXp",
        "colab": {
          "base_uri": "https://localhost:8080/"
        },
        "outputId": "960a1016-b84c-4ab7-bf3d-e62061a8bdb8"
      },
      "execution_count": null,
      "outputs": [
        {
          "output_type": "stream",
          "name": "stdout",
          "text": [
            "Sum: 35\n",
            "Diff: -15\n"
          ]
        }
      ]
    },
    {
      "cell_type": "markdown",
      "source": [
        "**Variable Scope**\n"
      ],
      "metadata": {
        "id": "bwURXv1wQdgR"
      }
    },
    {
      "cell_type": "code",
      "source": [
        "def myFunction(a,b):\n",
        "  c = 5                 # c is in LOCAL SCOPE\n",
        "  print(f\"c (local scope): {c}\")\n",
        "  return a * b + c      # c is used from local scope\n",
        "\n",
        "c = 10                  # c is in GLOBAL SCOPE\n",
        "\n",
        "print(f\"function output: {myFunction(1,2)}\")\n",
        "print(f\"c (global scope): {c}\")"
      ],
      "metadata": {
        "id": "pvIt6j1kQkpp"
      },
      "execution_count": null,
      "outputs": []
    },
    {
      "cell_type": "markdown",
      "source": [
        "\n",
        "\n",
        "---\n",
        "\n",
        "## **LAMBDA FUNCTIONS**\n",
        "\n",
        "* These functions can be defined inline\n",
        "* They do not need a separate function definition\n",
        "* They do not need a function name\n",
        "* It can be said that lambda functions are small anonymous functions: they can take any number of arguments but they can only have one expression\n",
        "* They are especially useful when they are used as anonymous functions inside another function\n",
        "\n",
        "**Syntax:**\n",
        "`lambda arguments : expression`\n"
      ],
      "metadata": {
        "id": "PesB4e2gR4rZ"
      }
    },
    {
      "cell_type": "code",
      "source": [
        "# Example 1: add 10 to argument a, and return the result\n",
        "\n",
        "x = lambda a : a+10\n",
        "print(x(5))"
      ],
      "metadata": {
        "id": "0kr1Jn64SwES",
        "colab": {
          "base_uri": "https://localhost:8080/"
        },
        "outputId": "3695ff90-1f50-48bd-8a05-212a724f85f1"
      },
      "execution_count": null,
      "outputs": [
        {
          "output_type": "stream",
          "name": "stdout",
          "text": [
            "15\n"
          ]
        }
      ]
    },
    {
      "cell_type": "code",
      "source": [
        "# Example 2: multiply argument a with argument b and return the result\n",
        "\n",
        "x = lambda a, b : a * b\n",
        "print(x(5, 6))"
      ],
      "metadata": {
        "id": "jrsbQ3xAS7xa"
      },
      "execution_count": null,
      "outputs": []
    },
    {
      "cell_type": "code",
      "source": [
        "# Example 3: Usage in combination with Map and Filter for lists\n",
        "\n",
        "# FILTER: it filters the elements of a list based on a condition\n",
        "# MAP: it maps every element of a list with a new value\n",
        "\n",
        "list1 = [2, -5, 12, 3, -8, 10, -9]\n",
        "print(\"list1: \", list1)\n",
        "\n",
        "neg_list1 = list( filter(lambda x: x<0, list1) )\n",
        "print(\"\\nneg_list1: \", neg_list1)\n",
        "\n",
        "pos_list1 = list( filter(lambda x: x>0, list1) )\n",
        "print(\"\\npos_list1: \", pos_list1)\n",
        "\n",
        "sq_list1 = list( map(lambda x: x**2, list1) )\n",
        "print(\"\\nsq_list1: \", sq_list1)\n"
      ],
      "metadata": {
        "id": "plig_y5LT9mh",
        "colab": {
          "base_uri": "https://localhost:8080/"
        },
        "outputId": "acfdd46a-e4c1-409e-d0a0-8e4658a78f0e"
      },
      "execution_count": null,
      "outputs": [
        {
          "output_type": "stream",
          "name": "stdout",
          "text": [
            "list1:  [2, -5, 12, 3, -8, 10, -9]\n",
            "\n",
            "neg_list1:  [-5, -8, -9]\n",
            "\n",
            "pos_list1:  [2, 12, 3, 10]\n",
            "\n",
            "sq_list1:  [4, 25, 144, 9, 64, 100, 81]\n"
          ]
        }
      ]
    },
    {
      "cell_type": "markdown",
      "source": [
        "\n",
        "\n",
        "---\n",
        "## **List Comprehension**\n",
        "\n",
        "This approach allows creating lists starting from other iterables objects and it is, therefore, useful for implementing the map pattern\n",
        "\n",
        "**Syntax:** `newlist = [f(el) for el in iterable]`\n",
        "\n",
        "where:\n",
        "\n",
        "`f(el)` transforms `el` into another value\n",
        "\n",
        "`for el in ...` iterates all the available elements\n",
        "\n",
        "`iterable` is any iterable element (e.g., list or tuple)\n"
      ],
      "metadata": {
        "id": "ByrpRTLRVOnS"
      }
    },
    {
      "cell_type": "code",
      "source": [
        "# Example 1: convert dictionary keys to uppercase\n",
        "mydict = {\"a\":1, \"b\":2, \"c\":3}\n",
        "print(mydict.keys())\n",
        "\n",
        "mylist = [str.upper() for str in mydict.keys()]\n",
        "print(mylist)"
      ],
      "metadata": {
        "id": "d4C5P3XwV9Sa"
      },
      "execution_count": null,
      "outputs": []
    },
    {
      "cell_type": "code",
      "source": [
        "# Example 2: square only positive numbers within a list\n",
        "\n",
        "mylist1 = [2, -3, 4, -5, 6]\n",
        "print(mylist1)\n",
        "\n",
        "mylist2 = [el**2 for el in mylist1 if el>0]\n",
        "print(mylist2)"
      ],
      "metadata": {
        "id": "pLud7FTMWZuj"
      },
      "execution_count": null,
      "outputs": []
    },
    {
      "cell_type": "markdown",
      "source": [
        "Exercise:\n",
        "**Max between two numbers**\n",
        "Write a program that asks the user for two numbers via the input function and shows the largest of the two using the print function.\n",
        "Although Python has a max() function, you are welcome to use the instructions if, Elif and else for writing algo\n"
      ],
      "metadata": {
        "id": "YMYzMCXFJlk_"
      }
    },
    {
      "cell_type": "code",
      "source": [
        "a = int(input(\"Enter the first number: \"))\n",
        "b = int(input(\"Enter the second number: \"))\n",
        "\n",
        "if a == b:\n",
        "    print(\"The two numbers are the same\")\n",
        "elif a > b:\n",
        "    print(\"The larger number is \" + str(a))\n",
        "else:\n",
        "    print(\"The larger number is \" + str(b))"
      ],
      "metadata": {
        "colab": {
          "base_uri": "https://localhost:8080/"
        },
        "id": "PW2iLIi6KG4D",
        "outputId": "f81334a2-2047-48df-fbe5-0a02231a1167"
      },
      "execution_count": null,
      "outputs": [
        {
          "output_type": "stream",
          "name": "stdout",
          "text": [
            "Enter the first number: 234\n",
            "Enter the second number: 456\n",
            "The larger number is 456\n"
          ]
        }
      ]
    },
    {
      "cell_type": "markdown",
      "source": [
        "Exercise: Max among three numbers\n",
        "Write a program that asks for three numbers a, b, c to the user and shows if they are the same and the largest of them."
      ],
      "metadata": {
        "id": "V6dahMP8K-BL"
      }
    },
    {
      "cell_type": "code",
      "source": [
        "a = int(input(\"Inserisci il primo numero: \"))\n",
        "b = int(input(\"Inserisci il secondo numero: \"))\n",
        "c = int(input(\"Inserisci il terzo numero: \"))\n",
        "\n",
        "if a == b:\n",
        "    print(str(a) +\" is repeated\")\n",
        "elif a == c:\n",
        "  print(str(a) +\" is repeated\")\n",
        "elif b == c:\n",
        "  print(str(a) +\" is repeated\")\n",
        "\n",
        "if a >= b and a >= c:\n",
        "    print(str(a) + \" is the largest\")\n",
        "elif b >= a and b >= c:\n",
        "    print(str(b) + \" is the largest\")\n",
        "elif c >= a and c >= b:\n",
        "    print(str(c) + \" is the largest\")"
      ],
      "metadata": {
        "colab": {
          "base_uri": "https://localhost:8080/"
        },
        "id": "sm8mreLDLKoQ",
        "outputId": "ccd62e71-4d1c-4d9e-c917-abd95e23d052"
      },
      "execution_count": null,
      "outputs": [
        {
          "output_type": "stream",
          "name": "stdout",
          "text": [
            "Inserisci il primo numero: 34\n",
            "Inserisci il secondo numero: 45\n",
            "Inserisci il terzo numero: 34\n",
            "34 is repeated\n",
            "45 is the largest\n"
          ]
        }
      ]
    },
    {
      "cell_type": "markdown",
      "source": [
        "**Exercise 03: The largest number!**\n",
        "Write a program that, given a list of numbers, will output the greatest of all the elements in the list."
      ],
      "metadata": {
        "id": "HPCJQflQOczV"
      }
    },
    {
      "cell_type": "code",
      "source": [
        "lista_numeri = [42, 9, 23, 11, 17, 56, 3]\n",
        "numero_maggiore = lista_numeri[0]\n",
        "for numero in lista_numeri:\n",
        "    if numero > numero_maggiore:\n",
        "        numero_maggiore = numero\n",
        "print(\"Il numero maggiore tra tutti è:\", numero_maggiore)"
      ],
      "metadata": {
        "colab": {
          "base_uri": "https://localhost:8080/"
        },
        "id": "ixcXNwc3P75M",
        "outputId": "8e667236-542f-45b1-a744-dfef05118e96"
      },
      "execution_count": null,
      "outputs": [
        {
          "output_type": "stream",
          "name": "stdout",
          "text": [
            "Il numero maggiore tra tutti è: 56\n"
          ]
        }
      ]
    },
    {
      "cell_type": "code",
      "source": [
        "\n",
        "number_list =list(map(int, input(\"print your list with numbers separated by ,: \").split(\",\")))\n",
        "\n",
        "max = number_list[0]\n",
        "for x in number_list[1:]:\n",
        "  if x > max:\n",
        "    max = x\n",
        "print(\"The largest number is:\", str(max))"
      ],
      "metadata": {
        "colab": {
          "base_uri": "https://localhost:8080/"
        },
        "id": "TZrnyl9AOuuO",
        "outputId": "19b08b1a-2ab2-4ce1-e9be-9e58d6a0cb23"
      },
      "execution_count": null,
      "outputs": [
        {
          "output_type": "stream",
          "name": "stdout",
          "text": [
            "print your list with numbers separated by ,: 4566,4322,5677,4322,45677\n",
            "The largest number is: 45677\n"
          ]
        }
      ]
    },
    {
      "cell_type": "markdown",
      "source": [
        "**Exercise 05: Are you a Vowel?**\n",
        "Write a program that asks the user for a string composed of only one character and says whether it is a vowel or not."
      ],
      "metadata": {
        "id": "PpRIWpD_XXks"
      }
    },
    {
      "cell_type": "code",
      "source": [
        "carattere = input(\"Insert a character: \").lower()\n",
        "vocali = \"aeiou\"\n",
        "\n",
        "if carattere in vocali:\n",
        "    print(f\"The character '{carattere}' is a vowel\")\n",
        "else:\n",
        "    print(f\"Il character '{carattere}' is not a vowel\")"
      ],
      "metadata": {
        "colab": {
          "base_uri": "https://localhost:8080/"
        },
        "id": "lQ3yLT88XoUF",
        "outputId": "0467c6c1-c58f-4d93-a5fe-512929636443"
      },
      "execution_count": null,
      "outputs": [
        {
          "output_type": "stream",
          "name": "stdout",
          "text": [
            "Insert a character: e\n",
            "The character 'e' is a vowel\n"
          ]
        }
      ]
    },
    {
      "cell_type": "markdown",
      "source": [
        "Sources for examples:\n",
        "\n",
        "https://www.w3schools.com/python/python_examples.asp\n",
        "\n",
        "https://www.programmareinpython.it/esercizi-python/\n",
        "\n",
        "https://www.geeksforgeeks.org/python-programming-examples/\n"
      ],
      "metadata": {
        "id": "lu5lmrdlZKDe"
      }
    },
    {
      "cell_type": "markdown",
      "source": [],
      "metadata": {
        "id": "RdiFF5-YaBBB"
      }
    }
  ]
}